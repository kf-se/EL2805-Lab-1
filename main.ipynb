{
 "cells": [
  {
   "cell_type": "code",
   "execution_count": 1,
   "metadata": {},
   "outputs": [],
   "source": [
    "import numpy as np\n",
    "import temp as mz\n",
    "maze = np.array([[0, 0, 1, 0, 0, 0, 0, 0, 0],\n",
    "                 [0, 0, 1, 0, 0, 0, 1, 0, 0], \n",
    "                 [0, 0, 1, 0, 0, 0, 1, 1, 0],\n",
    "                 [0, 0, 1, 0, 0, 0, 1, 0, 0],\n",
    "                 [0, 0, 0, 0, 0, 0, 0, 0, 0],\n",
    "                 [0, 1, 1, 1, 1, 1, 1, 1, 0],\n",
    "                 [0, 0, 0, 0, 0, 0, 1, 2, 0]])\n",
    "#mz.draw_maze(maze)\n",
    "env = mz.Maze(maze, minotaur_moves=4)\n"
   ]
  },
  {
   "cell_type": "raw",
   "metadata": {},
   "source": [
    "1) What are the states and actions? Given a pair, can I determine the probabilities of the next state? If not, there is a mistake in the formulation.\n",
    "\n",
    "2) Given a state and an action, what are the probabilities of the next states? First try to determine which states are definitely impossible (0 probability). For the remaining ones, try to justify what the probability of each one should be, based on the problem description.\n",
    "\n",
    "3) What are the rewards associated with the states? These should come from the problem description. Does it say that we punish the player for every step? Do we punish him for dying? Do we reward him for reaching the exit? Does it matter how much?"
   ]
  },
  {
   "cell_type": "code",
   "execution_count": 2,
   "metadata": {},
   "outputs": [],
   "source": [
    "#print(env.transition_probabilities)\n",
    "#print(env.show())"
   ]
  },
  {
   "cell_type": "code",
   "execution_count": 3,
   "metadata": {},
   "outputs": [
    {
     "name": "stdout",
     "output_type": "stream",
     "text": [
      "-100.75\n",
      "-2.0\n",
      "-100.75\n",
      "-2.0\n",
      "-1.75\n",
      "-101.5\n",
      "-2.875\n",
      "-101.5\n",
      "-2.875\n",
      "-2.5\n",
      "-102.140625\n",
      "-3.59375\n",
      "-102.140625\n",
      "-3.59375\n",
      "-3.140625\n",
      "-102.6640625\n",
      "-4.171875\n",
      "-102.6640625\n",
      "-4.171875\n",
      "-3.6640625\n",
      "-103.0830078125\n",
      "-4.630859375\n",
      "-103.0830078125\n",
      "-4.630859375\n",
      "-4.0830078125\n",
      "-103.414794921875\n",
      "-4.99267578125\n",
      "-103.414794921875\n",
      "-4.99267578125\n",
      "-4.414794921875\n",
      "-103.6759033203125\n",
      "-5.276611328125\n",
      "-103.6759033203125\n",
      "-5.276611328125\n",
      "-4.6759033203125\n",
      "-103.88059997558594\n",
      "-5.498809814453125\n",
      "-103.88059997558594\n",
      "-5.498809814453125\n",
      "-4.8805999755859375\n",
      "-104.04068374633789\n",
      "-5.672386169433594\n",
      "-104.04068374633789\n",
      "-5.672386169433594\n",
      "-5.040683746337891\n",
      "-104.16568565368652\n",
      "-5.807826995849609\n",
      "-104.16568565368652\n",
      "-5.807826995849609\n",
      "-5.165685653686523\n",
      "-104.26319813728333\n",
      "-5.9134345054626465\n",
      "-104.26319813728333\n",
      "-5.9134345054626465\n",
      "-5.263198137283325\n",
      "-104.33921879529953\n",
      "-5.995741963386536\n",
      "-104.33921879529953\n",
      "-5.995741963386536\n",
      "-5.33921879529953\n",
      "-104.3984606564045\n",
      "-6.059871017932892\n",
      "-104.3984606564045\n",
      "-6.059871017932892\n",
      "-5.398460656404495\n",
      "-104.44461515173316\n",
      "-6.109827049076557\n",
      "-104.44461515173316\n",
      "-6.109827049076557\n",
      "-5.44461515173316\n",
      "-104.48056753072888\n",
      "-6.148737659677863\n",
      "-104.48056753072888\n",
      "-6.148737659677863\n",
      "-5.480567530728877\n",
      "-104.50856993114576\n",
      "-6.179042651318014\n",
      "-104.50856993114576\n",
      "-6.179042651318014\n",
      "-5.508569931145757\n",
      "-104.53037881135242\n",
      "-6.2026440895861015\n",
      "-104.53037881135242\n",
      "-6.2026440895861015\n",
      "-5.530378811352421\n",
      "-104.54736330178275\n",
      "-6.221024227357702\n",
      "-104.54736330178275\n",
      "-6.221024227357702\n",
      "-5.547363301782752\n",
      "-104.56059024565184\n",
      "-6.235337866426562\n",
      "-104.56059024565184\n",
      "-6.235337866426562\n",
      "-5.560590245651838\n",
      "-104.57089075472231\n",
      "-6.246484547811633\n",
      "-104.57089075472231\n",
      "-6.246484547811633\n",
      "-5.570890754722313\n"
     ]
    }
   ],
   "source": [
    "# Finite horizon\n",
    "horizon = 20\n",
    "# Solve the MDP problem with dynamic programming \n",
    "V, policy= mz.dynamic_programming(env,horizon);"
   ]
  },
  {
   "cell_type": "raw",
   "metadata": {},
   "source": [
    "actions[self.STAY]       = (0, 0);\n",
    "actions[self.MOVE_LEFT]  = (0,-1);\n",
    "actions[self.MOVE_RIGHT] = (0, 1);\n",
    "actions[self.MOVE_UP]    = (-1,0);\n",
    "actions[self.MOVE_DOWN]  = (1,0);"
   ]
  },
  {
   "cell_type": "code",
   "execution_count": 4,
   "metadata": {},
   "outputs": [
    {
     "name": "stdout",
     "output_type": "stream",
     "text": [
      "(2961, 5)\n",
      "60\n",
      "[-100.   -1. -100.   -1.   -1.]\n",
      "{4: (0, 0), 0: (0, -1), 1: (0, 1), 2: (-1, 0), 3: (1, 0)}\n"
     ]
    }
   ],
   "source": [
    "list1 = [\"1\", \"2\"]\n",
    "list2 = (1,2)\n",
    "dict1 = {list2:5}\n",
    "print(env.rewards.shape)\n",
    "print(env.map[(0,0,6,6)])\n",
    "print(env.rewards[60,:])\n",
    "print(env.actions)\n"
   ]
  },
  {
   "cell_type": "code",
   "execution_count": 5,
   "metadata": {},
   "outputs": [],
   "source": [
    "# Simulate the shortest path starting from position A\n",
    "method = 'DynProg';\n",
    "start  = (0, 0, 6, 6);\n",
    "path = env.simulate(start, policy, method);\n"
   ]
  },
  {
   "cell_type": "code",
   "execution_count": 6,
   "metadata": {},
   "outputs": [
    {
     "name": "stdout",
     "output_type": "stream",
     "text": [
      "[(0, 0, 6, 6), (0, 0, 6, 7), (0, 0, 5, 7), (0, 0, 5, 8), (0, 0, 4, 8), (0, 0, 3, 8), (0, 0, 2, 8), (0, 1, 1, 8), (0, 0, 1, 7), (0, 1, 0, 7), (0, 0, 0, 7), (0, 1, 1, 7), (0, 0, 1, 6), (0, 1, 2, 6), (0, 0, 1, 6), (0, 1, 2, 6), (0, 0, 2, 5), (0, 1, 2, 6), (0, 0, 2, 5), (0, 1, 2, 4), (0, 0, 3, 4)]\n"
     ]
    }
   ],
   "source": [
    "print(path)"
   ]
  },
  {
   "cell_type": "code",
   "execution_count": 7,
   "metadata": {},
   "outputs": [],
   "source": [
    "#mz.animate_solution(maze, path)\n",
    "#mz.draw_maze(maze)"
   ]
  },
  {
   "cell_type": "code",
   "execution_count": null,
   "metadata": {},
   "outputs": [],
   "source": []
  }
 ],
 "metadata": {
  "kernelspec": {
   "display_name": "Python 3",
   "language": "python",
   "name": "python3"
  },
  "language_info": {
   "codemirror_mode": {
    "name": "ipython",
    "version": 3
   },
   "file_extension": ".py",
   "mimetype": "text/x-python",
   "name": "python",
   "nbconvert_exporter": "python",
   "pygments_lexer": "ipython3",
   "version": "3.7.8"
  }
 },
 "nbformat": 4,
 "nbformat_minor": 4
}
