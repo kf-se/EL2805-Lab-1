{
 "cells": [
  {
   "cell_type": "code",
   "execution_count": 1,
   "metadata": {},
   "outputs": [],
   "source": [
    "import numpy as np\n",
    "import temp as mz\n",
    "maze = np.array([[0, 0, 1, 0, 0, 0, 0, 0, 0],\n",
    "                 [0, 0, 1, 0, 0, 0, 1, 0, 0], \n",
    "                 [0, 0, 1, 0, 0, 0, 1, 1, 0],\n",
    "                 [0, 0, 1, 0, 0, 0, 1, 0, 0],\n",
    "                 [0, 0, 0, 0, 0, 0, 0, 0, 0],\n",
    "                 [0, 1, 1, 1, 1, 1, 1, 1, 0],\n",
    "                 [0, 0, 0, 0, 0, 0, 1, 2, 0]])\n",
    "#mz.draw_maze(maze)\n",
    "env = mz.Maze(maze, minotaur_moves=4)\n"
   ]
  },
  {
   "cell_type": "raw",
   "metadata": {},
   "source": [
    "1) What are the states and actions? Given a pair, can I determine the probabilities of the next state? If not, there is a mistake in the formulation.\n",
    "\n",
    "2) Given a state and an action, what are the probabilities of the next states? First try to determine which states are definitely impossible (0 probability). For the remaining ones, try to justify what the probability of each one should be, based on the problem description.\n",
    "\n",
    "3) What are the rewards associated with the states? These should come from the problem description. Does it say that we punish the player for every step? Do we punish him for dying? Do we reward him for reaching the exit? Does it matter how much?"
   ]
  },
  {
   "cell_type": "code",
   "execution_count": 2,
   "metadata": {},
   "outputs": [],
   "source": [
    "#print(env.transition_probabilities)\n",
    "#print(env.show())"
   ]
  },
  {
   "cell_type": "code",
   "execution_count": 3,
   "metadata": {},
   "outputs": [],
   "source": [
    "# Finite horizon\n",
    "horizon = 20\n",
    "# Solve the MDP problem with dynamic programming \n",
    "V, policy= mz.dynamic_programming(env,horizon);"
   ]
  },
  {
   "cell_type": "raw",
   "metadata": {},
   "source": [
    "actions[self.MOVE_LEFT]  = (0,-1);\n",
    "actions[self.MOVE_RIGHT] = (0, 1);\n",
    "actions[self.MOVE_UP]    = (-1,0);\n",
    "actions[self.MOVE_DOWN]  = (1,0);\n",
    "actions[self.STAY]       = (0, 0);"
   ]
  },
  {
   "cell_type": "code",
   "execution_count": 4,
   "metadata": {},
   "outputs": [
    {
     "name": "stdout",
     "output_type": "stream",
     "text": [
      "(2961, 5)\n",
      "60\n",
      "[   0. -100.    0. -100.    0.]\n",
      "{0: (0, 0), 1: (0, -1), 2: (0, 1), 3: (-1, 0), 4: (1, 0)}\n"
     ]
    }
   ],
   "source": [
    "list1 = [\"1\", \"2\"]\n",
    "list2 = (1,2)\n",
    "dict1 = {list2:5}\n",
    "print(env.rewards.shape)\n",
    "print(env.map[(0,0,6,6)])\n",
    "print(env.rewards[60,:])\n",
    "print(env.actions)\n"
   ]
  },
  {
   "cell_type": "code",
   "execution_count": 5,
   "metadata": {},
   "outputs": [],
   "source": [
    "# Simulate the shortest path starting from position A\n",
    "method = 'DynProg';\n",
    "start  = (0, 0, 6, 6);\n",
    "path = env.simulate(start, policy, method);\n"
   ]
  },
  {
   "cell_type": "code",
   "execution_count": 6,
   "metadata": {},
   "outputs": [
    {
     "name": "stdout",
     "output_type": "stream",
     "text": [
      "[(0, 0, 6, 6), (0, 0, 6, 6), (0, 0, 6, 6), (0, 0, 6, 6), (0, 0, 6, 6), (0, 0, 6, 6), (0, 0, 6, 5), (0, 0, 5, 5), (0, 0, 5, 4), (0, 0, 5, 4), (0, 0, 5, 5), (0, 0, 4, 5), (0, 0, 4, 6), (0, 0, 4, 6), (0, 0, 4, 6), (0, 0, 3, 6), (0, 0, 3, 7), (0, 0, 3, 7), (0, 0, 3, 6), (0, 0, 3, 7), (0, 0, 3, 6)]\n"
     ]
    }
   ],
   "source": [
    "print(path)"
   ]
  },
  {
   "cell_type": "code",
   "execution_count": 9,
   "metadata": {},
   "outputs": [
    {
     "data": {
      "image/png": "[encoded data removed]",
      "text/plain": [
       "<Figure size 648x504 with 1 Axes>"
      ]
     },
     "metadata": {},
     "output_type": "display_data"
    }
   ],
   "source": [
    "mz.animate_solution(maze, path)\n",
    "#mz.draw_maze(maze)"
   ]
  },
  {
   "cell_type": "code",
   "execution_count": null,
   "metadata": {},
   "outputs": [],
   "source": []
  }
 ],
 "metadata": {
  "kernelspec": {
   "display_name": "Python 3",
   "language": "python",
   "name": "python3"
  },
  "language_info": {
   "codemirror_mode": {
    "name": "ipython",
    "version": 3
   },
   "file_extension": ".py",
   "mimetype": "text/x-python",
   "name": "python",
   "nbconvert_exporter": "python",
   "pygments_lexer": "ipython3",
   "version": "3.7.8"
  }
 },
 "nbformat": 4,
 "nbformat_minor": 4
}
