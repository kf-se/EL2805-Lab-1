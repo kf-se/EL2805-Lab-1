{
 "cells": [
  {
   "cell_type": "markdown",
   "metadata": {},
   "source": [
    "# Lab 1 Problem 1\n",
    "## By: Karl-Filip Selander & Davit Soselia\n",
    "The MDP was formulated as according to these steps:\n",
    "1) What are the states and actions? Given a pair, can I determine the probabilities of the next state? If not, there is a mistake in the formulation.\n",
    "\n",
    "2) Given a state and an action, what are the probabilities of the next states? First try to determine which states are definitely impossible (0 probability). For the remaining ones, try to justify what the probability of each one should be, based on the problem description.\n",
    "\n",
    "3) What are the rewards associated with the states? These should come from the problem description. Does it say that we punish the player for every step? Do we punish him for dying? Do we reward him for reaching the exit? Does it matter how much?\n",
    "\n",
    "### MDP\n",
    "In this report it is assumed that the minotaur moves 1 step in a random direction. He can not move outside of the maze, but he can move within walls.\n",
    "\n",
    "The state space:\n",
    "\\begin{align}\n",
    "S & = \\{ (i,j,k,l) \\} \\\\\n",
    "\\end{align}\n",
    "where <b>i, j</b> is the position of the agent and <b>k, l</b> is the position of the minotaur.\n",
    "\n",
    "The action space:\n",
    "\\begin{align}\n",
    "P & = \\{stay, left, right, up, down \\} \\\\\n",
    "\\end{align}\n",
    "\n",
    "Transition probabilities:\n",
    "\\begin{align}\n",
    "P(dead|(i,j,k,l), a) & =  1 && \\textrm{,if (i,j) == (k,l) }\\\\\n",
    "P(win|win, a) & = 1 && \\\\\n",
    "P((i_{2}, j_{2}, k_{2}, (l_{2})|(i_{1}, j_{1}, k_{1}, l_{1}), a) & = 1/N && \\textrm{, where N = number of minotaur moves}\\\\\n",
    "\\end{align}\n",
    "\n",
    "Rewards, subscript T are terminal rewards, others are nonterminal:\n",
    "\\begin{align}\n",
    "r_{T}(dead, a) & = 0 \\\\\n",
    "r_{T}(win, a) & = 0 \\\\\n",
    "r(s,a) & = -100 && \\textrm{if it leads to a wall}\\\\\n",
    "r(s,a) & = 2 && \\textrm{if it leads to the goal}\\\\\n",
    "r(s,a) & = 0 && \\textrm{if it is a regular step}\\\\\n",
    "r(s,a) & = -10 && \\textrm{if it leads to getting caught}\\\\\n",
    "\\end{align}"
   ]
  },
  {
   "cell_type": "code",
   "execution_count": 1,
   "metadata": {},
   "outputs": [],
   "source": [
    "# Create and draw maze, initialize Maze class\n",
    "import numpy as np\n",
    "import temp as mz\n",
    "import matplotlib.pyplot as plt\n",
    "maze = np.array([[0, 0, 1, 0, 0, 0, 0, 0],\n",
    "                 [0, 0, 1, 0, 0, 1, 0, 0], \n",
    "                 [0, 0, 1, 0, 0, 1, 1, 0],\n",
    "                 [0, 0, 1, 0, 0, 1, 0, 0],\n",
    "                 [0, 0, 0, 0, 0, 0, 0, 0],\n",
    "                 [0, 1, 1, 1, 1, 1, 1, 0],\n",
    "                 [0, 0, 0, 0, 0, 1, 2, 0]])\n",
    "mz.draw_maze(maze)\n",
    "# Decide wether minotaur can stay or not, 4 = no_stay, 5 = stay\n",
    "env = mz.Maze(maze, minotaur_moves=4)"
   ]
  },
  {
   "cell_type": "code",
   "execution_count": 2,
   "metadata": {},
   "outputs": [],
   "source": [
    "# Simulate the survival rate of 10 000 episodes \n",
    "#sr = mz.simulate_survival_rate((0,0,6,6), env, 10000, 'DynProg')"
   ]
  },
  {
   "cell_type": "code",
   "execution_count": 3,
   "metadata": {},
   "outputs": [],
   "source": [
    "sr = 0.68"
   ]
  },
  {
   "cell_type": "code",
   "execution_count": 4,
   "metadata": {},
   "outputs": [
    {
     "name": "stdout",
     "output_type": "stream",
     "text": [
      "The survival rate after 10 000 episodes was 68.0 percent\n"
     ]
    }
   ],
   "source": [
    "print(\"The survival rate after 10 000 episodes was %s percent\"  % (sr*100))"
   ]
  },
  {
   "cell_type": "markdown",
   "metadata": {},
   "source": [
    "### Illustrate optimal policy"
   ]
  },
  {
   "cell_type": "markdown",
   "metadata": {},
   "source": [
    "# Minotaur can't stay\n",
    "env = mz.Maze(maze, minotaur_moves=4)\n",
    "start = (0,0,6,6)\n",
    "prob1 = mz.max_prob_survival(start, env, 'DynProg', 20)\n",
    "print(prob1)\n",
    "# Minotaur can stay\n",
    "env = mz.Maze(maze, minotaur_moves=5)\n",
    "start = (0,0,6,6)\n",
    "prob2 = mz.max_prob_survival(start, env, 'DynProg', 20)\n",
    "print(prob2)"
   ]
  },
  {
   "cell_type": "code",
   "execution_count": 5,
   "metadata": {},
   "outputs": [],
   "source": [
    "prob1 = [0.8, 0.85, 0.85, 0.85, 0.8, 0.9]\n",
    "prob2 = [0.8, 0.75, 0.7, 0.9, 0.85, 0.95]"
   ]
  },
  {
   "cell_type": "code",
   "execution_count": 6,
   "metadata": {},
   "outputs": [
    {
     "data": {
      "image/png": "[encoded data removed]",
      "text/plain": [
       "<Figure size 432x288 with 2 Axes>"
      ]
     },
     "metadata": {
      "needs_background": "light"
     },
     "output_type": "display_data"
    }
   ],
   "source": [
    "# Plot the maximal probability of survival as functions of the time horizon\n",
    "x_axis = np.linspace(15,20,6)\n",
    "plt.subplot(122)\n",
    "plt.scatter(x_axis, prob2[0:6])\n",
    "plt.xlabel('Horizon', fontsize=14)\n",
    "plt.ylabel('Survival rate', fontsize=14)\n",
    "plt.title(\"minotaur can stay\")\n",
    "plt.subplot(121)\n",
    "plt.scatter(x_axis, prob1[0:6])\n",
    "plt.xlabel('Horizon', fontsize=14)\n",
    "plt.title(\"minotaur can't stay\")\n",
    "plt.suptitle('Survival rates', fontsize=16)\n",
    "plt.show()"
   ]
  },
  {
   "cell_type": "code",
   "execution_count": 7,
   "metadata": {},
   "outputs": [],
   "source": [
    "horizon = 20\n",
    "# Solve the MDP problem with dynamic programming \n",
    "V, policy= mz.dynamic_programming(env,horizon);\n",
    "# Simulate the shortest path starting from position A\n",
    "method = 'DynProg';\n",
    "start  = (0, 0, 6, 6);\n",
    "path = env.simulate(start, policy, method);"
   ]
  },
  {
   "cell_type": "code",
   "execution_count": 8,
   "metadata": {},
   "outputs": [
    {
     "name": "stdout",
     "output_type": "stream",
     "text": [
      "[(0, 0, 6, 6), (0, 1, 6, 6), (1, 1, 5, 6), (2, 1, 5, 5), (3, 1, 4, 5), (4, 1, 4, 6), (4, 2, 4, 5), (4, 3, 4, 5), (4, 3, 3, 5), (4, 4, 3, 4), (4, 5, 3, 4), (4, 6, 2, 4), (4, 7, 2, 5), (5, 7, 2, 4), (6, 7, 2, 4), (6, 6, 1, 4), (6, 6, 0, 4), (6, 6, 0, 5), (6, 6, 0, 6), (6, 6, 0, 7), (6, 6, 0, 7)]\n"
     ]
    }
   ],
   "source": [
    "print(path)"
   ]
  },
  {
   "cell_type": "code",
   "execution_count": 9,
   "metadata": {},
   "outputs": [
    {
     "data": {
      "image/png": "[encoded data removed]",
      "text/plain": [
       "<Figure size 576x504 with 1 Axes>"
      ]
     },
     "metadata": {},
     "output_type": "display_data"
    }
   ],
   "source": [
    "mz.animate_solution(maze, path)"
   ]
  }
 ],
 "metadata": {
  "kernelspec": {
   "display_name": "Python 3",
   "language": "python",
   "name": "python3"
  },
  "language_info": {
   "codemirror_mode": {
    "name": "ipython",
    "version": 3
   },
   "file_extension": ".py",
   "mimetype": "text/x-python",
   "name": "python",
   "nbconvert_exporter": "python",
   "pygments_lexer": "ipython3",
   "version": "3.7.9"
  }
 },
 "nbformat": 4,
 "nbformat_minor": 4
}
