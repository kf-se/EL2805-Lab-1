{
 "cells": [
  {
   "cell_type": "code",
   "execution_count": 1,
   "metadata": {},
   "outputs": [],
   "source": [
    "import numpy as np\n",
    "import temp as mz\n",
    "maze = np.array([[0, 0, 1, 0, 0, 0, 0, 0, 0],\n",
    "                 [0, 0, 1, 0, 0, 0, 1, 0, 0], \n",
    "                 [0, 0, 1, 0, 0, 0, 1, 1, 0],\n",
    "                 [0, 0, 1, 0, 0, 0, 1, 0, 0],\n",
    "                 [0, 0, 0, 0, 0, 0, 0, 0, 0],\n",
    "                 [0, 1, 1, 1, 1, 1, 1, 1, 0],\n",
    "                 [0, 0, 0, 0, 0, 0, 1, 2, 0]])\n",
    "#mz.draw_maze(maze)\n",
    "env = mz.Maze(maze)"
   ]
  },
  {
   "cell_type": "raw",
   "metadata": {},
   "source": [
    "1) What are the states and actions? Given a pair, can I determine the probabilities of the next state? If not, there is a mistake in the formulation.\n",
    "\n",
    "2) Given a state and an action, what are the probabilities of the next states? First try to determine which states are definitely impossible (0 probability). For the remaining ones, try to justify what the probability of each one should be, based on the problem description.\n",
    "\n",
    "3) What are the rewards associated with the states? These should come from the problem description. Does it say that we punish the player for every step? Do we punish him for dying? Do we reward him for reaching the exit? Does it matter how much?"
   ]
  },
  {
   "cell_type": "code",
   "execution_count": 2,
   "metadata": {},
   "outputs": [
    {
     "name": "stdout",
     "output_type": "stream",
     "text": [
      "{0: (0, 0), 1: (0, 1), 2: (0, 2), 3: (0, 3), 4: (0, 4), 5: (0, 5), 6: (0, 6), 7: (0, 7), 8: (0, 8), 9: (1, 0), 10: (1, 1), 11: (1, 2), 12: (1, 3), 13: (1, 4), 14: (1, 5), 15: (1, 6), 16: (1, 7), 17: (1, 8), 18: (2, 0), 19: (2, 1), 20: (2, 2), 21: (2, 3), 22: (2, 4), 23: (2, 5), 24: (2, 6), 25: (2, 7), 26: (2, 8), 27: (3, 0), 28: (3, 1), 29: (3, 2), 30: (3, 3), 31: (3, 4), 32: (3, 5), 33: (3, 6), 34: (3, 7), 35: (3, 8), 36: (4, 0), 37: (4, 1), 38: (4, 2), 39: (4, 3), 40: (4, 4), 41: (4, 5), 42: (4, 6), 43: (4, 7), 44: (4, 8), 45: (5, 0), 46: (5, 1), 47: (5, 2), 48: (5, 3), 49: (5, 4), 50: (5, 5), 51: (5, 6), 52: (5, 7), 53: (5, 8), 54: (6, 0), 55: (6, 1), 56: (6, 2), 57: (6, 3), 58: (6, 4), 59: (6, 5), 60: (6, 6), 61: (6, 7), 62: (6, 8)}\n",
      "63\n"
     ]
    }
   ],
   "source": [
    "print(env.mstates)\n",
    "print(9*7)"
   ]
  },
  {
   "cell_type": "code",
   "execution_count": 3,
   "metadata": {},
   "outputs": [],
   "source": [
    "# Finite horizon\n",
    "horizon = 30\n",
    "# Solve the MDP problem with dynamic programming \n",
    "V, policy= mz.dynamic_programming(env,horizon);"
   ]
  },
  {
   "cell_type": "code",
   "execution_count": 4,
   "metadata": {},
   "outputs": [],
   "source": [
    "# Simulate the shortest path starting from position A\n",
    "method = 'DynProg';\n",
    "start  = (0,0);\n",
    "mstart = (6, 6);\n",
    "path, mpath = env.simulate(start, mstart, policy, method);"
   ]
  },
  {
   "cell_type": "code",
   "execution_count": 5,
   "metadata": {},
   "outputs": [
    {
     "name": "stdout",
     "output_type": "stream",
     "text": [
      "31 31\n",
      "63\n"
     ]
    }
   ],
   "source": [
    "# Show the shortest path \n",
    "print(len(path), len(mpath))\n",
    "print(env.n_mstates)"
   ]
  },
  {
   "cell_type": "code",
   "execution_count": 6,
   "metadata": {},
   "outputs": [
    {
     "data": {
      "image/png": "[encoded data removed]",
      "text/plain": [
       "<Figure size 648x504 with 1 Axes>"
      ]
     },
     "metadata": {},
     "output_type": "display_data"
    }
   ],
   "source": [
    "mz.animate_solution(maze, path, mpath)"
   ]
  },
  {
   "cell_type": "code",
   "execution_count": null,
   "metadata": {},
   "outputs": [],
   "source": []
  }
 ],
 "metadata": {
  "kernelspec": {
   "display_name": "Python 3",
   "language": "python",
   "name": "python3"
  },
  "language_info": {
   "codemirror_mode": {
    "name": "ipython",
    "version": 3
   },
   "file_extension": ".py",
   "mimetype": "text/x-python",
   "name": "python",
   "nbconvert_exporter": "python",
   "pygments_lexer": "ipython3",
   "version": "3.7.8"
  }
 },
 "nbformat": 4,
 "nbformat_minor": 4
}
