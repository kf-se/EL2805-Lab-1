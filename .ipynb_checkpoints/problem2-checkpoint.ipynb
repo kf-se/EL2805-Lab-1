{
 "cells": [
  {
   "cell_type": "code",
   "execution_count": 1,
   "metadata": {},
   "outputs": [],
   "source": [
    "%load_ext autoreload\n",
    "%autoreload 2\n",
    "import numpy as np\n",
    "import maze as mz\n",
    "maze = np.array([[0, 0, 0, 0, 0, 2],\n",
    "                 [0, 0, 0, 0, 0, 0], \n",
    "                 [2, 0, 0, 0, 0, 2]])\n",
    "mz.draw_maze(maze)\n",
    "env = mz.Maze(maze)\n"
   ]
  },
  {
   "cell_type": "code",
   "execution_count": 13,
   "metadata": {},
   "outputs": [
    {
     "name": "stdout",
     "output_type": "stream",
     "text": [
      "[229, 224, 230]\n",
      "[228, 223, 229]\n"
     ]
    }
   ],
   "source": [
    "gamma = 0.5;\n",
    "epsilon = 1e-5;\n",
    "# Solve the MDP problem with dynamic programming \n",
    "V, policy= mz.value_iteration(env, gamma, epsilon);\n",
    "# Simulate the shortest path starting from position A\n",
    "method = 'ValIter';\n",
    "start  = (0, 0, 1, 2);\n",
    "path = env.simulate(start, policy, method);"
   ]
  },
  {
   "cell_type": "code",
   "execution_count": 12,
   "metadata": {},
   "outputs": [
    {
     "name": "stdout",
     "output_type": "stream",
     "text": [
      "[(0, 0, 1, 2), (1, 0, 0, 2), (2, 0, 0, 1), (2, 0, 1, 1), (2, 0, 1, 0), (2, 0, 1, 0)]\n",
      "6\n"
     ]
    }
   ],
   "source": [
    "print(path)\n",
    "print(len(path))"
   ]
  },
  {
   "cell_type": "code",
   "execution_count": 5,
   "metadata": {},
   "outputs": [
    {
     "data": {
      "image/png": "[encoded data removed]",
      "text/plain": [
       "<Figure size 432x216 with 1 Axes>"
      ]
     },
     "metadata": {},
     "output_type": "display_data"
    }
   ],
   "source": [
    "mz.animate_solution(maze, path)"
   ]
  }
 ],
 "metadata": {
  "kernelspec": {
   "display_name": "Python 3",
   "language": "python",
   "name": "python3"
  },
  "language_info": {
   "codemirror_mode": {
    "name": "ipython",
    "version": 3
   },
   "file_extension": ".py",
   "mimetype": "text/x-python",
   "name": "python",
   "nbconvert_exporter": "python",
   "pygments_lexer": "ipython3",
   "version": "3.7.8"
  }
 },
 "nbformat": 4,
 "nbformat_minor": 4
}
